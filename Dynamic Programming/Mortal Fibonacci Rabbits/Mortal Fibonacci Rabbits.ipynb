{
 "cells": [
  {
   "cell_type": "code",
   "execution_count": 1,
   "metadata": {},
   "outputs": [],
   "source": [
    "def Mortal_Rabbits(data_file):\n",
    "    file = open(data_file)\n",
    "    info = file.read().replace(\"\\n\", \"\").split(\" \")\n",
    "    file.close()\n",
    "    \n",
    "    months = int(info[0])\n",
    "    lifespan = int(info[1])\n",
    "    \n",
    "    rabbit_pairs = [0]*lifespan\n",
    "    rabbit_pairs[0] = 1\n",
    "    for month in range(1,months):\n",
    "        baby_rabbits = sum(rabbit_pairs[1:])\n",
    "        rabbit_pairs[1:] = rabbit_pairs[:len(rabbit_pairs)-1]\n",
    "        rabbit_pairs[0] = baby_rabbits\n",
    "\n",
    "    return(sum(rabbit_pairs))"
   ]
  },
  {
   "cell_type": "code",
   "execution_count": 2,
   "metadata": {},
   "outputs": [
    {
     "data": {
      "text/plain": [
       "1093984671460515481"
      ]
     },
     "execution_count": 2,
     "metadata": {},
     "output_type": "execute_result"
    }
   ],
   "source": [
    "Mortal_Rabbits(\"rosalind_fibd.txt\")"
   ]
  }
 ],
 "metadata": {
  "kernelspec": {
   "display_name": "Python 3",
   "language": "python",
   "name": "python3"
  },
  "language_info": {
   "codemirror_mode": {
    "name": "ipython",
    "version": 3
   },
   "file_extension": ".py",
   "mimetype": "text/x-python",
   "name": "python",
   "nbconvert_exporter": "python",
   "pygments_lexer": "ipython3",
   "version": "3.6.10"
  }
 },
 "nbformat": 4,
 "nbformat_minor": 4
}
