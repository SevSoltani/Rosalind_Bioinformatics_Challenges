{
 "cells": [
  {
   "cell_type": "code",
   "execution_count": 18,
   "metadata": {},
   "outputs": [],
   "source": [
    "def Count_DNA_Nucleotides(file):\n",
    "    \n",
    "    file = open(file)\n",
    "    sequence = file.read().replace('\\n','')\n",
    "    file.close()\n",
    "\n",
    "    unique_letters = set(sequence)\n",
    "    output = []\n",
    "    for letter in sorted(list(unique_letters)):\n",
    "        count_letter = sequence.count(letter)\n",
    "        output.append(str(count_letter))\n",
    "        \n",
    "    output = \" \".join(output)\n",
    "    \n",
    "    return output"
   ]
  },
  {
   "cell_type": "code",
   "execution_count": 20,
   "metadata": {},
   "outputs": [
    {
     "name": "stdout",
     "output_type": "stream",
     "text": [
      "231 216 206 237\n"
     ]
    }
   ],
   "source": [
    "print(Count_DNA_Nucleotides('rosalind_dna.txt')) #Print to avoid quotes"
   ]
  }
 ],
 "metadata": {
  "kernelspec": {
   "display_name": "Python 3",
   "language": "python",
   "name": "python3"
  },
  "language_info": {
   "codemirror_mode": {
    "name": "ipython",
    "version": 3
   },
   "file_extension": ".py",
   "mimetype": "text/x-python",
   "name": "python",
   "nbconvert_exporter": "python",
   "pygments_lexer": "ipython3",
   "version": "3.6.10"
  }
 },
 "nbformat": 4,
 "nbformat_minor": 4
}
