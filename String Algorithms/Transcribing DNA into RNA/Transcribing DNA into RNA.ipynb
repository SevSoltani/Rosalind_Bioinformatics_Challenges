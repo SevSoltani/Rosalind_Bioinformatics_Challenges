{
 "cells": [
  {
   "cell_type": "code",
   "execution_count": 6,
   "metadata": {},
   "outputs": [],
   "source": [
    "def DNA_to_RNA(file):\n",
    "    \n",
    "    file = open(file)\n",
    "    sequence = file.read().replace('\\n', '')\n",
    "    file.close()\n",
    "    RNA = sequence.replace('T', 'U')\n",
    "    \n",
    "    return RNA"
   ]
  },
  {
   "cell_type": "code",
   "execution_count": 7,
   "metadata": {},
   "outputs": [
    {
     "name": "stdout",
     "output_type": "stream",
     "text": [
      "CUAAUCCUCUUCUUUAGAUAAACGAGGGGCAACACAUACCCGUAUAAAAUACAGAGUAAAGUCUACUAUCGUAGGCGUAUCAAGCCGUAGAUGCGCGACGGAGUUUCAAUUCAUCGCGUAAUAGGGCGAGAUCGGACACGACCUCUUGUGUUUCGGUACCUCCAACUGCGGUCCGAAAAGUGUCGGCAACUCGGAAGAUUCUUAACGUUCCGCGAGCUCCCGAGUCUCAGGAGUGACCCUUACACCAAAUCUGAGAUCUAAAAAGAAUUCCGUGCCGAUAGGAGCCUGACCGAGUACGAGCGCUUGUCACUUCGCUGUCCUACGAAUUUUCGUAAAGUUAGUCUAUUGCCGCCCUUUAAUAUCUAAAGAGAAAGCCCAUUCCCCCGAUAAUGCCGCGGCUUUUUGCGAUGUGAGGUAUCUGGGUCGCGACCCGUGGGCUCUAUGGGAUGUGGCAAGACGGUCGAACACCGCAGGGAUUAGGUGUGUCUGUGGUACUGCAAUUACUGACCGCAUAGUUGCCGCAGGUGUCUAUUAAGGGCAUCGCCGCUGCUAACCGGGGCGAAGGGAUUUCAUUUACAAAUCCACGAUCUAAGGACGUAUGAUCGCGAAGGGUGUAGUAGAGCGUCUAAAGCCGGACUCCGCGUAUGGCUGCGGCAGGAGAAUGACUUGAGGUUUAAUAGACGGGUUGCAGUAGACGACGUCAAUCCCCUGGGAGUGUGAUAUGCCACCAGACAUACCGGAUCCCUCUCCAGUAUGAUAUUUCCAGUGCGUCAUUCGCUUCUCAGUUAAUGUGGUGUGGGUGGAACCCAGAUAGGACUGGCUUUUCGAUAUCUCGUAUUUUCAUAAAAGAUUGUUGAGUCCGUGGGAUUUAAUCUUGAACAUUCUCCUCUGGAACGUGAUAAACUAGCCUAGACUUAGAUCUUGACCCGAAGCGGCAAACGGUC\n"
     ]
    }
   ],
   "source": [
    "print(DNA_to_RNA('rosalind_rna.txt')) #Print to avoid quotes"
   ]
  }
 ],
 "metadata": {
  "kernelspec": {
   "display_name": "Python 3",
   "language": "python",
   "name": "python3"
  },
  "language_info": {
   "codemirror_mode": {
    "name": "ipython",
    "version": 3
   },
   "file_extension": ".py",
   "mimetype": "text/x-python",
   "name": "python",
   "nbconvert_exporter": "python",
   "pygments_lexer": "ipython3",
   "version": "3.6.10"
  }
 },
 "nbformat": 4,
 "nbformat_minor": 4
}
