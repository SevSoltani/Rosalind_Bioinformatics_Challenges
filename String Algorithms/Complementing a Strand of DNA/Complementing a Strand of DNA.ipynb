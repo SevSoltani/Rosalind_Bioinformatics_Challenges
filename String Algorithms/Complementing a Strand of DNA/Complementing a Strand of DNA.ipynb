{
 "cells": [
  {
   "cell_type": "code",
   "execution_count": 3,
   "metadata": {},
   "outputs": [],
   "source": [
    "def Reverse_Complement_DNA(file):\n",
    "    \n",
    "    file = open(file)\n",
    "    sequence = file.read().replace('\\n', '')\n",
    "    file.close()\n",
    "    nucleo_dict = {'A':'T', 'C':'G', 'G':'C', 'T':'A'}\n",
    "    reversed_seq = list(reversed(sequence))\n",
    "    reverse_comp = ''.join([nucleo_dict[nuc] for nuc in reversed_seq])\n",
    "    \n",
    "    return reverse_comp"
   ]
  },
  {
   "cell_type": "code",
   "execution_count": 4,
   "metadata": {},
   "outputs": [
    {
     "name": "stdout",
     "output_type": "stream",
     "text": [
      "GGCGTCATCCCATCCATTAGTTAGGGAGAGAGGAATAGTGAGACATGCCTCAGTTGATGAATCGGTACAGTATTGACCGTCTGTGTCAGCTAAACTACTATATGTCAGTCGGGGAAACAGCCGGATAACCCCTATCTATCACTCAAGTCTTTTTAACAGAGCCAAAGAGCGGGTGCAATTAACTGTATGCTCATTAGCAGAACGGGCGCCTGTGACTGCTACTTACGGTCTCTTGGAGTCGGTTAGGTTTACCCGCCGGGTCGCATCGAAATACCCCCCTGCCTTGATTTATCCCTGGACCTACGGGGTGCTATTGGTGTGACGTGGCCTCGGATAGAGTCAGGTATCGAATTCCAACGCTGACGGCCTGCTCCGCTGTTAAGACGTGGGCTCTAAGTGACCTATGGCTTACAACTATCTACTGTCAAACAGCGCATCCAACGTGGTCCTCACAAGGTTGCGGCGATGCTTTGATAGGTAAGACCTGCTCCTGGCGAGTACATCCGCAGATGGAGATGTAATGAGGAGAGATGGGATCTGAATCGAGTATTTGGAGTATAAGCCCAGCTGACCCTGATCGAAATGGCCACCCGCTTTGTGCTGATACCTAGACCAACGCCTTTCCTCCTGAGCCCATCCGGTGTGGTTTAAGGCATTAATGGGACGTGAGACTAACGGTACGAAGCTTCACCTCACGAACGGTGATTCCACTGAGCTGCTCGAGTTGTAACCTGCTTAAGAGGATGCTCGCTGATTAAGCTGGTAAGGAGTACTATCCTGTTGTGGATAGGCGGGGCATACGGCGCAGAGTTTGAAAAAAATCGGCAAACGGTTTTTCACCAAACATAAGGCCGACTCTCACCGTGTACGTCGAAGCCGCTAACGGACGA\n"
     ]
    }
   ],
   "source": [
    "print(Reverse_Complement_DNA(\"rosalind_revc.txt\")) #Print to avoid quotes"
   ]
  }
 ],
 "metadata": {
  "kernelspec": {
   "display_name": "Python 3",
   "language": "python",
   "name": "python3"
  },
  "language_info": {
   "codemirror_mode": {
    "name": "ipython",
    "version": 3
   },
   "file_extension": ".py",
   "mimetype": "text/x-python",
   "name": "python",
   "nbconvert_exporter": "python",
   "pygments_lexer": "ipython3",
   "version": "3.6.10"
  }
 },
 "nbformat": 4,
 "nbformat_minor": 4
}
