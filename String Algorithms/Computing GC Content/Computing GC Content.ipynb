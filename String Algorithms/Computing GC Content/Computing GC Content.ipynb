{
 "cells": [
  {
   "cell_type": "code",
   "execution_count": 1,
   "metadata": {},
   "outputs": [],
   "source": [
    "def Compute_GC_Content(data_file):\n",
    "    \n",
    "    file = open(data_file)\n",
    "    DNA_strings = file.read().replace('\\n', '').split(\">\")\n",
    "    DNA_strings.pop(0) #Empty string\n",
    "    file.close()\n",
    "    \n",
    "    GC_freq = []\n",
    "    for DNA in DNA_strings:\n",
    "        sequence = DNA[13:]\n",
    "        count_C = sequence.count('C')\n",
    "        count_G = sequence.count('G')\n",
    "        count_GC = count_C + count_G\n",
    "        GC_freq.append(count_GC/len(sequence))\n",
    "        \n",
    "    max_index = GC_freq.index(max(GC_freq))\n",
    "    print(DNA_strings[max_index][:13])\n",
    "    print(GC_freq[max_index]*100)"
   ]
  },
  {
   "cell_type": "code",
   "execution_count": 2,
   "metadata": {},
   "outputs": [
    {
     "name": "stdout",
     "output_type": "stream",
     "text": [
      "Rosalind_8000\n",
      "50.728155339805824\n"
     ]
    }
   ],
   "source": [
    "Compute_GC_Content('rosalind_gc.txt')"
   ]
  }
 ],
 "metadata": {
  "kernelspec": {
   "display_name": "Python 3",
   "language": "python",
   "name": "python3"
  },
  "language_info": {
   "codemirror_mode": {
    "name": "ipython",
    "version": 3
   },
   "file_extension": ".py",
   "mimetype": "text/x-python",
   "name": "python",
   "nbconvert_exporter": "python",
   "pygments_lexer": "ipython3",
   "version": "3.6.10"
  }
 },
 "nbformat": 4,
 "nbformat_minor": 4
}
