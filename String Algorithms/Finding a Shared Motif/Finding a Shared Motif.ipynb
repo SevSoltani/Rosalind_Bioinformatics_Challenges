{
 "cells": [
  {
   "cell_type": "code",
   "execution_count": 1,
   "metadata": {},
   "outputs": [],
   "source": [
    "from itertools import combinations"
   ]
  },
  {
   "cell_type": "code",
   "execution_count": 2,
   "metadata": {},
   "outputs": [],
   "source": [
    "def Find_Shared_Motif(data_file):\n",
    "    file = open(data_file)\n",
    "    DNA_strs = file.read().replace(\"\\n\", \"\").split(\">\")\n",
    "    DNA_strs.pop(0) #Empty string\n",
    "    file.close()\n",
    "    \n",
    "    FASTA_len = 13\n",
    "    DNA_strs = [DNA[FASTA_len:] for DNA in DNA_strs] #Cutting out the FASTA ID\n",
    "    shared_motifs = [DNA_strs[0][ind_1:ind_2] for ind_1, ind_2 in combinations(range(len(DNA_strs[0])+1), r=2)]\n",
    "    \n",
    "    for DNA in DNA_strs[1:]:\n",
    "        length = len(DNA) + 1\n",
    "        substrings = [DNA[ind_1:ind_2] for ind_1, ind_2 in combinations(range(length), r=2)]\n",
    "        shared_motifs = list(set(shared_motifs) & set(substrings)) #Finding intersection of substrings\n",
    "\n",
    "    return(max(shared_motifs, key = len))"
   ]
  },
  {
   "cell_type": "code",
   "execution_count": 3,
   "metadata": {},
   "outputs": [
    {
     "name": "stdout",
     "output_type": "stream",
     "text": [
      "ACCACACGTGAACCTTATATGTTAGTAACCTAGTTTATGATTGGCCCTACTTAGGCAGCAATACATGGTCTTTGGCGAGGGCTGGATCTAGCATGTTCCATGGAAGTGGTTGTCCAACGGGCCTTAGATAAGTATGCGGAACTACACATCTCATTTCAGGCCTCAGACCAACAGGTGGAGTAAAGAGGATCAGTAATGCGTGGGTCGAAGTTCCATGCTATGACATTATAGATTAGACGTTTAAGTTTTGATCATTAAGACACCC\n"
     ]
    }
   ],
   "source": [
    "print(Find_Shared_Motif(\"rosalind_lcsm.txt\"))"
   ]
  }
 ],
 "metadata": {
  "kernelspec": {
   "display_name": "Python 3",
   "language": "python",
   "name": "python3"
  },
  "language_info": {
   "codemirror_mode": {
    "name": "ipython",
    "version": 3
   },
   "file_extension": ".py",
   "mimetype": "text/x-python",
   "name": "python",
   "nbconvert_exporter": "python",
   "pygments_lexer": "ipython3",
   "version": "3.6.10"
  }
 },
 "nbformat": 4,
 "nbformat_minor": 4
}
