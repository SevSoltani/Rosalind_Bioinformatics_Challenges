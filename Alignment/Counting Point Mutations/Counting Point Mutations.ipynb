{
 "cells": [
  {
   "cell_type": "code",
   "execution_count": 1,
   "metadata": {},
   "outputs": [],
   "source": [
    "import numpy as np"
   ]
  },
  {
   "cell_type": "code",
   "execution_count": 2,
   "metadata": {},
   "outputs": [],
   "source": [
    "def Count_Point_Mutations(data_file):\n",
    "\n",
    "    file = open(data_file)\n",
    "    sequences = file.read().split('\\n')\n",
    "    file.close()\n",
    "\n",
    "    DNA_1 = np.array(list(sequences[0]))\n",
    "    DNA_2 = np.array(list(sequences[1]))\n",
    "    Hamming_dist = np.sum(DNA_1 != DNA_2)\n",
    "    \n",
    "    return Hamming_dist"
   ]
  },
  {
   "cell_type": "code",
   "execution_count": 3,
   "metadata": {},
   "outputs": [
    {
     "data": {
      "text/plain": [
       "490"
      ]
     },
     "execution_count": 3,
     "metadata": {},
     "output_type": "execute_result"
    }
   ],
   "source": [
    "Count_Point_Mutations('rosalind_hamm.txt')"
   ]
  }
 ],
 "metadata": {
  "kernelspec": {
   "display_name": "Python 3",
   "language": "python",
   "name": "python3"
  },
  "language_info": {
   "codemirror_mode": {
    "name": "ipython",
    "version": 3
   },
   "file_extension": ".py",
   "mimetype": "text/x-python",
   "name": "python",
   "nbconvert_exporter": "python",
   "pygments_lexer": "ipython3",
   "version": "3.6.10"
  }
 },
 "nbformat": 4,
 "nbformat_minor": 4
}
